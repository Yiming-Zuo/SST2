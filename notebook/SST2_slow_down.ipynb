{
 "cells": [
  {
   "cell_type": "code",
   "execution_count": 1,
   "id": "9d908268-188e-43f9-ac27-069cb26d342d",
   "metadata": {},
   "outputs": [],
   "source": [
    "import sys\n",
    "import os\n",
    "import pdb_numpy\n",
    "from time import monotonic\n",
    "import openmm\n",
    "import openmm.app as app\n",
    "from openmm import unit\n",
    "\n",
    "sys.path.insert(0, '../src')\n",
    "\n",
    "import SST2\n",
    "import SST2.tools as tools\n",
    "import SST2.rest2 as rest2\n",
    "import SST2.sst2 as sst2"
   ]
  },
  {
   "cell_type": "code",
   "execution_count": 2,
   "id": "827f4ba6-b816-451f-a60b-febcd420496d",
   "metadata": {},
   "outputs": [
    {
     "name": "stdout",
     "output_type": "stream",
     "text": [
      "Created simulation\n"
     ]
    }
   ],
   "source": [
    "# Set system parameters\n",
    "forcefield = app.ForceField(\"amber14-all.xml\", \"amber14/tip3pfb.xml\")\n",
    "# Sim parameters\n",
    "dt = 2 * unit.femtosecond\n",
    "temperature = 300 * unit.kelvin\n",
    "friction = 1 / unit.picoseconds\n",
    "\n",
    "# Starting coordinates\n",
    "PDB_PROT_PEP_SOL = '../src/SST2/tests/inputs/2HPL_equi_water.pdb'\n",
    "\n",
    "pdb = app.PDBFile(PDB_PROT_PEP_SOL)\n",
    "integrator = openmm.LangevinMiddleIntegrator(temperature, friction, dt)\n",
    "system = forcefield.createSystem(\n",
    "    pdb.topology,\n",
    "    nonbondedMethod=app.PME,\n",
    "    nonbondedCutoff=1 * unit.nanometers,\n",
    "    constraints=app.HBonds,\n",
    ")\n",
    "\n",
    "simulation = tools.setup_simulation(system, pdb.positions, pdb.topology, integrator)"
   ]
  },
  {
   "cell_type": "code",
   "execution_count": 3,
   "id": "f0de9e6a-243f-4e35-8c9f-902832288c8b",
   "metadata": {},
   "outputs": [],
   "source": [
    "tot_steps = 200_000\n",
    "freq_log_dcd = 10_000\n",
    "\n",
    "OUT_DIR = \"tmp_time_sim\"\n",
    "os.makedirs(OUT_DIR, exist_ok=True)"
   ]
  },
  {
   "cell_type": "code",
   "execution_count": 6,
   "id": "b6914875-2713-4990-9fe4-b31d8093cc0e",
   "metadata": {},
   "outputs": [
    {
     "name": "stdout",
     "output_type": "stream",
     "text": [
      "Timing 200000 steps of integration...\n",
      "#\"Step\",\"Temperature (K)\",\"Speed (ns/day)\",\"Time Remaining\"\n",
      "10000,299.309156211985,0,--\n",
      "20000,300.01401894878205,525,0:59\n",
      "30000,302.75588629425624,535,0:54\n",
      "40000,294.5370670624776,537,0:51\n",
      "50000,298.26472392193295,535,0:48\n",
      "60000,303.23304982666826,534,0:45\n",
      "70000,302.2001968266329,533,0:42\n",
      "80000,301.745168088392,532,0:38\n",
      "90000,297.82267368408856,531,0:35\n",
      "100000,306.1732232643654,531,0:32\n",
      "110000,303.2852434125171,531,0:29\n",
      "120000,300.70275368628575,531,0:26\n",
      "130000,300.3726667788023,530,0:22\n",
      "140000,301.9614100990066,530,0:19\n",
      "150000,300.4111447163043,530,0:16\n",
      "160000,302.1766898903606,530,0:13\n",
      "170000,298.4437498032205,529,0:09\n",
      "180000,299.3909930579146,529,0:06\n",
      "190000,297.67901834147904,530,0:03\n",
      "200000,300.6960195992583,530,0:00\n",
      "200000 steps of 2.0 fs timestep (0.4 ns) took 65.6 s : 527.1 ns/day\n",
      "Classical MD simulation time took: 66.0 s.\n"
     ]
    }
   ],
   "source": [
    "start = monotonic()\n",
    "\n",
    "tools.simulate(\n",
    "    simulation,\n",
    "    pdb.topology,\n",
    "    tot_steps,\n",
    "    dt,\n",
    "    f'{OUT_DIR}/simple_sim',\n",
    "    save_step_log=freq_log_dcd,\n",
    "    save_step_dcd=freq_log_dcd,\n",
    ")\n",
    "\n",
    "simulation_time = monotonic() - start\n",
    "print(f'Classical MD simulation time took: {simulation_time:.1f} s.')"
   ]
  },
  {
   "cell_type": "code",
   "execution_count": 7,
   "id": "adbbb5cb-e17b-47f7-a4cf-b7c9d06af3e0",
   "metadata": {},
   "outputs": [],
   "source": [
    "prot_pep_coor = pdb_numpy.Coor(PDB_PROT_PEP_SOL)\n",
    "solute_indices = prot_pep_coor.get_index_select(\"chain B\")\n",
    "\n",
    "integrator_rest = openmm.LangevinMiddleIntegrator(temperature, friction, dt)"
   ]
  },
  {
   "cell_type": "code",
   "execution_count": 8,
   "id": "db349909-df27-440a-a6e0-5c648fe899c2",
   "metadata": {},
   "outputs": [
    {
     "name": "stdout",
     "output_type": "stream",
     "text": [
      "Created simulation\n",
      "Created simulation\n",
      "Created simulation\n"
     ]
    }
   ],
   "source": [
    "test = rest2.REST2(system, pdb, forcefield, solute_indices, integrator_rest)"
   ]
  },
  {
   "cell_type": "code",
   "execution_count": 10,
   "id": "02f33ff0-2f2b-41bd-beb8-428685cc6c98",
   "metadata": {},
   "outputs": [
    {
     "name": "stdout",
     "output_type": "stream",
     "text": [
      "Timing 200000 steps of integration...\n",
      "#\"Step\",\"Temperature (K)\",\"Speed (ns/day)\",\"Time Remaining\"\n",
      "10000,303.862306600601,0,--\n",
      "20000,301.6868878289856,443,1:10\n",
      "30000,304.98395703487853,452,1:04\n",
      "40000,294.8059511270358,455,1:00\n",
      "50000,302.0885975802759,455,0:57\n",
      "60000,297.75645233727846,456,0:53\n",
      "70000,297.6008129030667,455,0:49\n",
      "80000,304.2049272479925,456,0:45\n",
      "90000,304.7937821690071,456,0:41\n",
      "100000,299.4187656354094,454,0:38\n",
      "110000,297.17202081628926,453,0:34\n",
      "120000,301.1736766997813,453,0:30\n",
      "130000,296.4070100250381,452,0:26\n",
      "140000,298.91404406354144,451,0:22\n",
      "150000,299.387067786804,450,0:19\n",
      "160000,301.03302504688156,450,0:15\n",
      "170000,299.62689296613075,450,0:11\n",
      "180000,305.129179206585,450,0:07\n",
      "190000,303.7281512821675,450,0:03\n",
      "200000,299.7594563794769,449,0:00\n",
      "200000 steps of 2.0 fs timestep (0.4 ns) took 77.1 s : 448.4 ns/day\n",
      "REST2 simulation time took: 77.4 s.\n"
     ]
    }
   ],
   "source": [
    "start = monotonic()\n",
    "\n",
    "rest2.run_rest2(\n",
    "    test,\n",
    "    f'{OUT_DIR}/rest2',\n",
    "    tot_steps,\n",
    "    dt,\n",
    "    save_step_log=freq_log_dcd,\n",
    "    save_step_dcd=freq_log_dcd,\n",
    "    )\n",
    "\n",
    "rest2_time = monotonic() - start\n",
    "print(f'REST2 simulation time took: {rest2_time:.1f} s.')"
   ]
  },
  {
   "cell_type": "code",
   "execution_count": 13,
   "id": "8c24654d-a823-44a5-841e-da061d97aa9b",
   "metadata": {},
   "outputs": [
    {
     "name": "stdout",
     "output_type": "stream",
     "text": [
      "REST2 slowdown is: 17.32 %\n"
     ]
    }
   ],
   "source": [
    "print(f'REST2 slowdown is: {100 * (rest2_time - simulation_time) / simulation_time:.2f} %')"
   ]
  },
  {
   "cell_type": "code",
   "execution_count": 14,
   "id": "beb39d52-1da4-4e77-8157-e8b3364b0273",
   "metadata": {},
   "outputs": [],
   "source": [
    "ladder_num = tools.compute_ladder_num(\n",
    "    f'{OUT_DIR}/rest2_rest2',\n",
    "    300,\n",
    "    500,\n",
    "    sst2_score=True\n",
    ")\n",
    "ladder_num = 5"
   ]
  },
  {
   "cell_type": "code",
   "execution_count": 15,
   "id": "1b360cc7-a219-4413-ba93-38a5a4f28ca5",
   "metadata": {},
   "outputs": [
    {
     "data": {
      "text/plain": [
       "[Quantity(value=300, unit=kelvin),\n",
       " Quantity(value=340.8658099402498, unit=kelvin),\n",
       " Quantity(value=387.2983346207417, unit=kelvin),\n",
       " Quantity(value=440.05586839669667, unit=kelvin),\n",
       " Quantity(value=500.0, unit=kelvin)]"
      ]
     },
     "execution_count": 15,
     "metadata": {},
     "output_type": "execute_result"
    }
   ],
   "source": [
    "temp_list = tools.compute_temperature_list(\n",
    "    minTemperature=300,\n",
    "    maxTemperature=500,\n",
    "    numTemperatures=ladder_num,\n",
    "    refTemperature=300,\n",
    ")\n",
    "temp_list "
   ]
  },
  {
   "cell_type": "code",
   "execution_count": 16,
   "id": "615bf460-47b6-4201-b5a4-d74a314d19b9",
   "metadata": {},
   "outputs": [
    {
     "data": {
      "text/plain": [
       "1000"
      ]
     },
     "execution_count": 16,
     "metadata": {},
     "output_type": "execute_result"
    }
   ],
   "source": [
    "tempChangeInterval = int(2.0 * unit.picosecond / dt.in_units_of(unit.picosecond))\n",
    "tempChangeInterval"
   ]
  },
  {
   "cell_type": "code",
   "execution_count": 17,
   "id": "9cf4862e-d26a-4e19-b780-9c6e6afe73a6",
   "metadata": {},
   "outputs": [
    {
     "name": "stdout",
     "output_type": "stream",
     "text": [
      "Timing 200000 steps of integration...\n",
      "#\"Step\",\"Temperature (K)\",\"Speed (ns/day)\",\"Time Remaining\"\n",
      "10000,299.9186601244759,0,--\n",
      "20000,301.8328023409841,430,1:12\n",
      "30000,297.43700978885863,432,1:07\n",
      "40000,297.32716679516534,435,1:03\n",
      "50000,297.26862125164394,434,0:59\n",
      "60000,302.1084810937353,433,0:55\n",
      "70000,303.64253834443247,433,0:51\n",
      "80000,301.26027710896005,433,0:47\n",
      "90000,297.8018292739895,431,0:44\n",
      "100000,299.88352241636846,432,0:40\n",
      "110000,303.0778180713265,433,0:35\n",
      "120000,304.1462239551278,431,0:32\n",
      "130000,304.07698204724704,430,0:28\n",
      "140000,295.9749748711528,430,0:24\n",
      "150000,302.3123785541703,428,0:20\n",
      "160000,298.6097699471747,428,0:16\n",
      "170000,299.2449389184568,428,0:12\n",
      "180000,302.2871530226596,428,0:08\n",
      "190000,300.0405733733266,428,0:04\n",
      "200000,302.4584289453144,429,0:00\n",
      "200000 steps of 2.0 fs timestep (0.4 ns) took 80.7 s : 428.0 ns/day\n",
      "REST2 simulation time took: 81.1 s.\n"
     ]
    }
   ],
   "source": [
    "start = monotonic()\n",
    "\n",
    "sst2.run_sst2(\n",
    "    test,\n",
    "    f'{OUT_DIR}/sst2',\n",
    "    tot_steps,\n",
    "    dt,\n",
    "    temperatures=temp_list,\n",
    "    ref_temp=temp_list[0],\n",
    "    save_step_log=freq_log_dcd,\n",
    "    save_step_dcd=freq_log_dcd,\n",
    "    tempChangeInterval=tempChangeInterval,\n",
    ")\n",
    "\n",
    "sst2_time = monotonic() - start\n",
    "print(f'REST2 simulation time took: {sst2_time:.1f} s.')"
   ]
  },
  {
   "cell_type": "code",
   "execution_count": 18,
   "id": "b451bfa3-8578-4cda-a386-35b21d893987",
   "metadata": {},
   "outputs": [
    {
     "name": "stdout",
     "output_type": "stream",
     "text": [
      "SST2 slowdown is: 22.95 %\n"
     ]
    }
   ],
   "source": [
    "print(f'SST2 slowdown is: {100 * (sst2_time - simulation_time) / simulation_time:.2f} %')"
   ]
  },
  {
   "cell_type": "code",
   "execution_count": null,
   "id": "e45b3bab-86fd-4c69-9c09-65826aa9524e",
   "metadata": {},
   "outputs": [],
   "source": []
  }
 ],
 "metadata": {
  "kernelspec": {
   "display_name": "Python 3 (ipykernel)",
   "language": "python",
   "name": "python3"
  },
  "language_info": {
   "codemirror_mode": {
    "name": "ipython",
    "version": 3
   },
   "file_extension": ".py",
   "mimetype": "text/x-python",
   "name": "python",
   "nbconvert_exporter": "python",
   "pygments_lexer": "ipython3",
   "version": "3.10.13"
  }
 },
 "nbformat": 4,
 "nbformat_minor": 5
}
